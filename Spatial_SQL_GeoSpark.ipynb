{
  "nbformat": 4,
  "nbformat_minor": 0,
  "metadata": {
    "colab": {
      "name": "Spatial SQL GeoSpark.ipynb",
      "provenance": [],
      "authorship_tag": "ABX9TyOvLIQH2yfOrWMP5KVA+vIg",
      "include_colab_link": true
    },
    "kernelspec": {
      "name": "python3",
      "display_name": "Python 3"
    }
  },
  "cells": [
    {
      "cell_type": "markdown",
      "metadata": {
        "id": "view-in-github",
        "colab_type": "text"
      },
      "source": [
        "<a href=\"https://colab.research.google.com/github/yashyennam/SpatialSQL_GeoSpark/blob/master/Spatial_SQL_GeoSpark.ipynb\" target=\"_parent\"><img src=\"https://colab.research.google.com/assets/colab-badge.svg\" alt=\"Open In Colab\"/></a>"
      ]
    },
    {
      "cell_type": "code",
      "metadata": {
        "id": "2uD7GTTVlLo6",
        "colab_type": "code",
        "colab": {
          "base_uri": "https://localhost:8080/",
          "height": 860
        },
        "outputId": "e6434a2b-f6b7-4590-ae5a-6790f2448077"
      },
      "source": [
        "!pip install pyspark\n",
        "!pip install geopandas\n",
        "!pip install geospark"
      ],
      "execution_count": 1,
      "outputs": [
        {
          "output_type": "stream",
          "text": [
            "Collecting pyspark\n",
            "\u001b[?25l  Downloading https://files.pythonhosted.org/packages/e9/e4/5c15ab8d354c4e3528510821865e6748209a9b0ff6a1788f4cd36cc2a5dc/pyspark-2.4.6.tar.gz (218.4MB)\n",
            "\u001b[K     |████████████████████████████████| 218.4MB 56kB/s \n",
            "\u001b[?25hCollecting py4j==0.10.7\n",
            "\u001b[?25l  Downloading https://files.pythonhosted.org/packages/e3/53/c737818eb9a7dc32a7cd4f1396e787bd94200c3997c72c1dbe028587bd76/py4j-0.10.7-py2.py3-none-any.whl (197kB)\n",
            "\u001b[K     |████████████████████████████████| 204kB 40.0MB/s \n",
            "\u001b[?25hBuilding wheels for collected packages: pyspark\n",
            "  Building wheel for pyspark (setup.py) ... \u001b[?25l\u001b[?25hdone\n",
            "  Created wheel for pyspark: filename=pyspark-2.4.6-py2.py3-none-any.whl size=218814406 sha256=f645886e0a3ce95dbd4c4770c88fcf45266b9bed08fd028c9be535920eada913\n",
            "  Stored in directory: /root/.cache/pip/wheels/1e/5e/6a/17e906c94ec7246f260330a66e44a06a0809033ba2738a74a8\n",
            "Successfully built pyspark\n",
            "Installing collected packages: py4j, pyspark\n",
            "Successfully installed py4j-0.10.7 pyspark-2.4.6\n",
            "Collecting geopandas\n",
            "\u001b[?25l  Downloading https://files.pythonhosted.org/packages/83/c5/3cf9cdc39a6f2552922f79915f36b45a95b71fd343cfc51170a5b6ddb6e8/geopandas-0.7.0-py2.py3-none-any.whl (928kB)\n",
            "\u001b[K     |████████████████████████████████| 931kB 2.8MB/s \n",
            "\u001b[?25hCollecting pyproj>=2.2.0\n",
            "\u001b[?25l  Downloading https://files.pythonhosted.org/packages/e5/c3/071e080230ac4b6c64f1a2e2f9161c9737a2bc7b683d2c90b024825000c0/pyproj-2.6.1.post1-cp36-cp36m-manylinux2010_x86_64.whl (10.9MB)\n",
            "\u001b[K     |████████████████████████████████| 10.9MB 15.9MB/s \n",
            "\u001b[?25hCollecting fiona\n",
            "\u001b[?25l  Downloading https://files.pythonhosted.org/packages/ec/20/4e63bc5c6e62df889297b382c3ccd4a7a488b00946aaaf81a118158c6f09/Fiona-1.8.13.post1-cp36-cp36m-manylinux1_x86_64.whl (14.7MB)\n",
            "\u001b[K     |████████████████████████████████| 14.7MB 314kB/s \n",
            "\u001b[?25hRequirement already satisfied: shapely in /usr/local/lib/python3.6/dist-packages (from geopandas) (1.7.0)\n",
            "Requirement already satisfied: pandas>=0.23.0 in /usr/local/lib/python3.6/dist-packages (from geopandas) (1.0.4)\n",
            "Collecting munch\n",
            "  Downloading https://files.pythonhosted.org/packages/cc/ab/85d8da5c9a45e072301beb37ad7f833cd344e04c817d97e0cc75681d248f/munch-2.5.0-py2.py3-none-any.whl\n",
            "Collecting click-plugins>=1.0\n",
            "  Downloading https://files.pythonhosted.org/packages/e9/da/824b92d9942f4e472702488857914bdd50f73021efea15b4cad9aca8ecef/click_plugins-1.1.1-py2.py3-none-any.whl\n",
            "Collecting cligj>=0.5\n",
            "  Downloading https://files.pythonhosted.org/packages/e4/be/30a58b4b0733850280d01f8bd132591b4668ed5c7046761098d665ac2174/cligj-0.5.0-py3-none-any.whl\n",
            "Requirement already satisfied: attrs>=17 in /usr/local/lib/python3.6/dist-packages (from fiona->geopandas) (19.3.0)\n",
            "Requirement already satisfied: six>=1.7 in /usr/local/lib/python3.6/dist-packages (from fiona->geopandas) (1.12.0)\n",
            "Requirement already satisfied: click<8,>=4.0 in /usr/local/lib/python3.6/dist-packages (from fiona->geopandas) (7.1.2)\n",
            "Requirement already satisfied: python-dateutil>=2.6.1 in /usr/local/lib/python3.6/dist-packages (from pandas>=0.23.0->geopandas) (2.8.1)\n",
            "Requirement already satisfied: numpy>=1.13.3 in /usr/local/lib/python3.6/dist-packages (from pandas>=0.23.0->geopandas) (1.18.5)\n",
            "Requirement already satisfied: pytz>=2017.2 in /usr/local/lib/python3.6/dist-packages (from pandas>=0.23.0->geopandas) (2018.9)\n",
            "Installing collected packages: pyproj, munch, click-plugins, cligj, fiona, geopandas\n",
            "Successfully installed click-plugins-1.1.1 cligj-0.5.0 fiona-1.8.13.post1 geopandas-0.7.0 munch-2.5.0 pyproj-2.6.1.post1\n",
            "Collecting geospark\n",
            "\u001b[?25l  Downloading https://files.pythonhosted.org/packages/7e/d3/53f6e8cb78ec95c2add17f0253c2d075b7b922244b9fb1801ebb8e6ced9c/geospark-1.3.1-py3-none-any.whl (34.4MB)\n",
            "\u001b[K     |████████████████████████████████| 34.4MB 124kB/s \n",
            "\u001b[?25hCollecting findspark\n",
            "  Downloading https://files.pythonhosted.org/packages/fc/2d/2e39f9a023479ea798eed4351cd66f163ce61e00c717e03c37109f00c0f2/findspark-1.4.2-py2.py3-none-any.whl\n",
            "Requirement already satisfied: shapely in /usr/local/lib/python3.6/dist-packages (from geospark) (1.7.0)\n",
            "Requirement already satisfied: pyspark in /usr/local/lib/python3.6/dist-packages (from geospark) (2.4.6)\n",
            "Requirement already satisfied: attrs in /usr/local/lib/python3.6/dist-packages (from geospark) (19.3.0)\n",
            "Requirement already satisfied: py4j==0.10.7 in /usr/local/lib/python3.6/dist-packages (from pyspark->geospark) (0.10.7)\n",
            "Installing collected packages: findspark, geospark\n",
            "Successfully installed findspark-1.4.2 geospark-1.3.1\n"
          ],
          "name": "stdout"
        }
      ]
    },
    {
      "cell_type": "code",
      "metadata": {
        "id": "-b2ujrc_xVCe",
        "colab_type": "code",
        "colab": {}
      },
      "source": [
        "!apt-get install openjdk-8-jdk-headless -qq > /dev/null\n",
        "!wget -q http://apache.osuosl.org/spark/spark-2.4.6/spark-2.4.6-bin-hadoop2.7.tgz\n",
        "!tar xf spark-2.4.6-bin-hadoop2.7.tgz\n",
        "!pip install -q findspark"
      ],
      "execution_count": 0,
      "outputs": []
    },
    {
      "cell_type": "code",
      "metadata": {
        "id": "eqMeZmACxZVr",
        "colab_type": "code",
        "colab": {}
      },
      "source": [
        "import os\n",
        "os.environ[\"JAVA_HOME\"] = \"/usr/lib/jvm/java-8-openjdk-amd64\"\n",
        "os.environ[\"SPARK_HOME\"] = \"/content/spark-2.4.6-bin-hadoop2.7\""
      ],
      "execution_count": 0,
      "outputs": []
    },
    {
      "cell_type": "code",
      "metadata": {
        "id": "04v04bjKxfhT",
        "colab_type": "code",
        "colab": {}
      },
      "source": [
        "import findspark\n",
        "findspark.init()\n",
        "from pyspark.sql import SparkSession\n",
        "spark = SparkSession.builder.master(\"local[*]\").getOrCreate()"
      ],
      "execution_count": 0,
      "outputs": []
    },
    {
      "cell_type": "code",
      "metadata": {
        "id": "L_1C72n7zi4K",
        "colab_type": "code",
        "colab": {}
      },
      "source": [
        "spark.stop()"
      ],
      "execution_count": 0,
      "outputs": []
    },
    {
      "cell_type": "code",
      "metadata": {
        "id": "txd2jk8flgjT",
        "colab_type": "code",
        "colab": {}
      },
      "source": [
        "import geopandas as gpd\n",
        "from pyspark.sql import SparkSession"
      ],
      "execution_count": 0,
      "outputs": []
    },
    {
      "cell_type": "code",
      "metadata": {
        "id": "mvn3_Asbv3fr",
        "colab_type": "code",
        "colab": {
          "base_uri": "https://localhost:8080/",
          "height": 34
        },
        "outputId": "ae7c50e1-8688-4730-c091-61a7cfd8b9a1"
      },
      "source": [
        "from geospark.register import upload_jars\n",
        "from geospark.register import GeoSparkRegistrator\n",
        "\n",
        "upload_jars()\n",
        "\n",
        "spark = SparkSession.builder.\\\n",
        "      getOrCreate()\n",
        "\n",
        "GeoSparkRegistrator.registerAll(spark)"
      ],
      "execution_count": 11,
      "outputs": [
        {
          "output_type": "execute_result",
          "data": {
            "text/plain": [
              "True"
            ]
          },
          "metadata": {
            "tags": []
          },
          "execution_count": 11
        }
      ]
    },
    {
      "cell_type": "code",
      "metadata": {
        "id": "DW9zdh_nl4Mf",
        "colab_type": "code",
        "colab": {}
      },
      "source": [
        "stations = gpd.read_file(\"/content/stations.shp\")"
      ],
      "execution_count": 0,
      "outputs": []
    },
    {
      "cell_type": "code",
      "metadata": {
        "id": "X6hOJYy1qT8i",
        "colab_type": "code",
        "colab": {}
      },
      "source": [
        "counties = gpd.read_file(\"/content/UScounties.shp\")"
      ],
      "execution_count": 0,
      "outputs": []
    },
    {
      "cell_type": "code",
      "metadata": {
        "id": "OPMyjd_RqaaG",
        "colab_type": "code",
        "colab": {
          "base_uri": "https://localhost:8080/",
          "height": 223
        },
        "outputId": "faff41a4-54c0-4b7b-f6c9-4d486b30b5bf"
      },
      "source": [
        "counties.plot()"
      ],
      "execution_count": 14,
      "outputs": [
        {
          "output_type": "execute_result",
          "data": {
            "text/plain": [
              "<matplotlib.axes._subplots.AxesSubplot at 0x7f45c3213780>"
            ]
          },
          "metadata": {
            "tags": []
          },
          "execution_count": 14
        },
        {
          "output_type": "display_data",
          "data": {
            "image/png": "[encoded data removed]",
            "text/plain": [
              "<Figure size 432x288 with 1 Axes>"
            ]
          },
          "metadata": {
            "tags": [],
            "needs_background": "light"
          }
        }
      ]
    },
    {
      "cell_type": "code",
      "metadata": {
        "id": "Uv6q1O37qcX-",
        "colab_type": "code",
        "colab": {
          "base_uri": "https://localhost:8080/",
          "height": 282
        },
        "outputId": "cc210a1a-1417-49e6-af43-089168add79d"
      },
      "source": [
        "stations.plot()"
      ],
      "execution_count": 15,
      "outputs": [
        {
          "output_type": "execute_result",
          "data": {
            "text/plain": [
              "<matplotlib.axes._subplots.AxesSubplot at 0x7f45c31c9a20>"
            ]
          },
          "metadata": {
            "tags": []
          },
          "execution_count": 15
        },
        {
          "output_type": "display_data",
          "data": {
            "image/png": "[encoded data removed]",
            "text/plain": [
              "<Figure size 432x288 with 1 Axes>"
            ]
          },
          "metadata": {
            "tags": [],
            "needs_background": "light"
          }
        }
      ]
    },
    {
      "cell_type": "code",
      "metadata": {
        "id": "C_ny_ht6qhMW",
        "colab_type": "code",
        "colab": {
          "base_uri": "https://localhost:8080/",
          "height": 195
        },
        "outputId": "dbf70865-3a62-486e-9a40-e637016f0573"
      },
      "source": [
        "counties.head()"
      ],
      "execution_count": 16,
      "outputs": [
        {
          "output_type": "execute_result",
          "data": {
            "text/html": [
              "<div>\n",
              "<style scoped>\n",
              "    .dataframe tbody tr th:only-of-type {\n",
              "        vertical-align: middle;\n",
              "    }\n",
              "\n",
              "    .dataframe tbody tr th {\n",
              "        vertical-align: top;\n",
              "    }\n",
              "\n",
              "    .dataframe thead th {\n",
              "        text-align: right;\n",
              "    }\n",
              "</style>\n",
              "<table border=\"1\" class=\"dataframe\">\n",
              "  <thead>\n",
              "    <tr style=\"text-align: right;\">\n",
              "      <th></th>\n",
              "      <th>name</th>\n",
              "      <th>state_name</th>\n",
              "      <th>state_fips</th>\n",
              "      <th>cnty_fips</th>\n",
              "      <th>fips</th>\n",
              "      <th>geometry</th>\n",
              "    </tr>\n",
              "  </thead>\n",
              "  <tbody>\n",
              "    <tr>\n",
              "      <th>0</th>\n",
              "      <td>Lake of the Woods</td>\n",
              "      <td>Minnesota</td>\n",
              "      <td>27</td>\n",
              "      <td>077</td>\n",
              "      <td>27077</td>\n",
              "      <td>POLYGON ((-95.34283 48.54668, -95.34105 48.715...</td>\n",
              "    </tr>\n",
              "    <tr>\n",
              "      <th>1</th>\n",
              "      <td>Ferry</td>\n",
              "      <td>Washington</td>\n",
              "      <td>53</td>\n",
              "      <td>019</td>\n",
              "      <td>53019</td>\n",
              "      <td>POLYGON ((-118.85163 47.94956, -118.84846 48.4...</td>\n",
              "    </tr>\n",
              "    <tr>\n",
              "      <th>2</th>\n",
              "      <td>Stevens</td>\n",
              "      <td>Washington</td>\n",
              "      <td>53</td>\n",
              "      <td>065</td>\n",
              "      <td>53065</td>\n",
              "      <td>POLYGON ((-117.43883 48.04412, -117.54219 48.0...</td>\n",
              "    </tr>\n",
              "    <tr>\n",
              "      <th>3</th>\n",
              "      <td>Okanogan</td>\n",
              "      <td>Washington</td>\n",
              "      <td>53</td>\n",
              "      <td>047</td>\n",
              "      <td>53047</td>\n",
              "      <td>POLYGON ((-118.97209 47.93915, -118.97406 47.9...</td>\n",
              "    </tr>\n",
              "    <tr>\n",
              "      <th>4</th>\n",
              "      <td>Pend Oreille</td>\n",
              "      <td>Washington</td>\n",
              "      <td>53</td>\n",
              "      <td>051</td>\n",
              "      <td>53051</td>\n",
              "      <td>POLYGON ((-117.43858 48.99992, -117.03205 48.9...</td>\n",
              "    </tr>\n",
              "  </tbody>\n",
              "</table>\n",
              "</div>"
            ],
            "text/plain": [
              "                name  ...                                           geometry\n",
              "0  Lake of the Woods  ...  POLYGON ((-95.34283 48.54668, -95.34105 48.715...\n",
              "1              Ferry  ...  POLYGON ((-118.85163 47.94956, -118.84846 48.4...\n",
              "2            Stevens  ...  POLYGON ((-117.43883 48.04412, -117.54219 48.0...\n",
              "3           Okanogan  ...  POLYGON ((-118.97209 47.93915, -118.97406 47.9...\n",
              "4       Pend Oreille  ...  POLYGON ((-117.43858 48.99992, -117.03205 48.9...\n",
              "\n",
              "[5 rows x 6 columns]"
            ]
          },
          "metadata": {
            "tags": []
          },
          "execution_count": 16
        }
      ]
    },
    {
      "cell_type": "code",
      "metadata": {
        "id": "4LdNUghGqkRe",
        "colab_type": "code",
        "colab": {
          "base_uri": "https://localhost:8080/",
          "height": 195
        },
        "outputId": "fe495474-1fdc-4e9c-e859-0697d1359af0"
      },
      "source": [
        "stations.head()"
      ],
      "execution_count": 18,
      "outputs": [
        {
          "output_type": "execute_result",
          "data": {
            "text/html": [
              "<div>\n",
              "<style scoped>\n",
              "    .dataframe tbody tr th:only-of-type {\n",
              "        vertical-align: middle;\n",
              "    }\n",
              "\n",
              "    .dataframe tbody tr th {\n",
              "        vertical-align: top;\n",
              "    }\n",
              "\n",
              "    .dataframe thead th {\n",
              "        text-align: right;\n",
              "    }\n",
              "</style>\n",
              "<table border=\"1\" class=\"dataframe\">\n",
              "  <thead>\n",
              "    <tr style=\"text-align: right;\">\n",
              "      <th></th>\n",
              "      <th>name</th>\n",
              "      <th>marker-col</th>\n",
              "      <th>marker-sym</th>\n",
              "      <th>line</th>\n",
              "      <th>geometry</th>\n",
              "    </tr>\n",
              "  </thead>\n",
              "  <tbody>\n",
              "    <tr>\n",
              "      <th>0</th>\n",
              "      <td>Van Dorn Street</td>\n",
              "      <td>#0000ff</td>\n",
              "      <td>rail-metro</td>\n",
              "      <td>blue</td>\n",
              "      <td>POINT (-77.12911 38.79931)</td>\n",
              "    </tr>\n",
              "    <tr>\n",
              "      <th>1</th>\n",
              "      <td>Franconia-Springfield</td>\n",
              "      <td>#0000ff</td>\n",
              "      <td>rail-metro</td>\n",
              "      <td>blue</td>\n",
              "      <td>POINT (-77.16797 38.76652)</td>\n",
              "    </tr>\n",
              "    <tr>\n",
              "      <th>2</th>\n",
              "      <td>Federal Center SW</td>\n",
              "      <td>#0000ff</td>\n",
              "      <td>rail-metro</td>\n",
              "      <td>blue</td>\n",
              "      <td>POINT (-77.01587 38.88507)</td>\n",
              "    </tr>\n",
              "    <tr>\n",
              "      <th>3</th>\n",
              "      <td>Judiciary Sq</td>\n",
              "      <td>#ff0000</td>\n",
              "      <td>rail-metro</td>\n",
              "      <td>red</td>\n",
              "      <td>POINT (-77.01664 38.89609)</td>\n",
              "    </tr>\n",
              "    <tr>\n",
              "      <th>4</th>\n",
              "      <td>Capitol South</td>\n",
              "      <td>#0000ff</td>\n",
              "      <td>rail-metro</td>\n",
              "      <td>blue</td>\n",
              "      <td>POINT (-77.00514 38.88506)</td>\n",
              "    </tr>\n",
              "  </tbody>\n",
              "</table>\n",
              "</div>"
            ],
            "text/plain": [
              "                    name marker-col  ...  line                    geometry\n",
              "0        Van Dorn Street    #0000ff  ...  blue  POINT (-77.12911 38.79931)\n",
              "1  Franconia-Springfield    #0000ff  ...  blue  POINT (-77.16797 38.76652)\n",
              "2      Federal Center SW    #0000ff  ...  blue  POINT (-77.01587 38.88507)\n",
              "3           Judiciary Sq    #ff0000  ...   red  POINT (-77.01664 38.89609)\n",
              "4          Capitol South    #0000ff  ...  blue  POINT (-77.00514 38.88506)\n",
              "\n",
              "[5 rows x 5 columns]"
            ]
          },
          "metadata": {
            "tags": []
          },
          "execution_count": 18
        }
      ]
    },
    {
      "cell_type": "code",
      "metadata": {
        "id": "mI4QaEk9tkB0",
        "colab_type": "code",
        "colab": {}
      },
      "source": [
        "stations.to_csv('stations.csv')"
      ],
      "execution_count": 0,
      "outputs": []
    },
    {
      "cell_type": "code",
      "metadata": {
        "id": "neYBPqItuQ6i",
        "colab_type": "code",
        "colab": {}
      },
      "source": [
        "counties.to_csv('counties.csv')"
      ],
      "execution_count": 0,
      "outputs": []
    },
    {
      "cell_type": "code",
      "metadata": {
        "id": "04DNf78OuYOY",
        "colab_type": "code",
        "colab": {}
      },
      "source": [
        "counties = spark.read.option(\"delimiter\", \",\").option(\"header\", \"true\").csv(\"counties.csv\")"
      ],
      "execution_count": 0,
      "outputs": []
    },
    {
      "cell_type": "code",
      "metadata": {
        "id": "izg8ZGhxu3j9",
        "colab_type": "code",
        "colab": {
          "base_uri": "https://localhost:8080/",
          "height": 121
        },
        "outputId": "24a4d63e-8f2a-4e85-8ce0-b33908695800"
      },
      "source": [
        "counties.take(5)"
      ],
      "execution_count": 22,
      "outputs": [
        {
          "output_type": "execute_result",
          "data": {
            "text/plain": [
              "[Row(_c0='0', name='Lake of the Woods', state_name='Minnesota', state_fips='27', cnty_fips='077', fips='27077', geometry='POLYGON ((-95.34283127277658 48.546679319076, -95.34105289190684 48.71517195733587, -95.09435905148669 48.71735751795556, -95.09491035007436 48.91176243313237, -95.13382124476209 48.89448474990026, -95.21957848050616 48.87944650348885, -95.29026017093044 48.90294958174785, -95.31417172404038 48.93207199957641, -95.30375729897271 48.94593890485217, -95.32091645456259 48.96097699585145, -95.32323587682019 48.97895631299366, -95.31012059635258 48.993395445689, -95.27665710362751 48.99999118779381, -95.15774989320504 48.9999959019614, -95.15186733731112 49.37173013664074, -94.83203924782775 49.33080592976444, -94.68124996659202 48.87716132370133, -94.69443202246646 48.77761551038913, -94.57031275583246 48.71367627110933, -94.43063445677862 48.71078529488466, -94.43169006769017 48.36821243467153, -95.21178803364391 48.36900472565064, -95.21983978008106 48.54435777285279, -95.34283127277658 48.546679319076))'),\n",
              " Row(_c0='1', name='Ferry', state_name='Washington', state_fips='53', cnty_fips='019', fips='53019', geometry='POLYGON ((-118.8516288013387 47.94956368481996, -118.8484604662869 48.47806574951402, -118.8702581555677 48.47916415056214, -118.8710556269508 48.64723759053491, -118.8397360443977 48.64903845435776, -118.8436028015091 48.99989845856322, -118.2003547376642 48.99990881937111, -118.2123633802414 48.98125812187784, -118.2149478319647 48.93683916269727, -118.2008085410496 48.91337887457483, -118.2096650632394 48.87492976109462, -118.1409922816603 48.78490718795969, -118.1245422197622 48.78226777215052, -118.1279436729915 48.74250262885251, -118.1150260767384 48.7065677726222, -118.1243038693768 48.69032430523336, -118.090068341052 48.64347962190627, -118.1223195156463 48.61597830788374, -118.1269733833329 48.57022389237058, -118.1476119572314 48.5432797825962, -118.1459790421044 48.52805509344688, -118.1954963994339 48.48194110609602, -118.2126323986182 48.45225790954058, -118.1703898825464 48.29805681426771, -118.1455312479875 48.27335260755039, -118.1483305828664 48.24012560026534, -118.190400643291 48.20611220766169, -118.1947402158703 48.14752437745949, -118.2462712480167 48.1175774465393, -118.2366715450773 48.07525618832754, -118.2498171309079 48.05624685146926, -118.2806566454276 48.04352419381652, -118.3657448838064 48.041337545312, -118.3863068913346 48.02362144449417, -118.3810339135727 47.99787167684894, -118.3553891009114 47.96633524258679, -118.3442628365379 47.88537853176497, -118.3681583303956 47.83587034375037, -118.4328823490687 47.8389024859825, -118.4593436969996 47.8773092755625, -118.5070070395619 47.86943133167765, -118.5293546287213 47.87379509674344, -118.5438370695936 47.91600523529061, -118.5567849194058 47.92185308247811, -118.6255821860916 47.92198181551611, -118.682576731257 47.93512672789427, -118.7294067022368 47.89539909072082, -118.8205292823451 47.92325355288018, -118.8318218376853 47.94106839219718, -118.8516288013387 47.94956368481996))'),\n",
              " Row(_c0='2', name='Stevens', state_name='Washington', state_fips='53', cnty_fips='065', fips='53065', geometry='POLYGON ((-117.438831576286 48.04411548512263, -117.5421921872581 48.04329014316636, -117.5367092995284 47.79001268278663, -117.6081222557733 47.79800412932188, -117.627250379294 47.82692363072796, -117.662438583904 47.84425379145202, -117.6749675980573 47.88379358717848, -117.6984130184204 47.87032350084479, -117.7115501601926 47.83940871505585, -117.7269387573228 47.83058125493222, -117.8048157180002 47.81127337139468, -117.8217085490234 47.81624360635012, -117.8428516942659 47.83683130868188, -117.8699305981509 47.84725262368679, -117.9363409419158 47.8279445329331, -117.9942826203341 47.8298429437622, -118.0321717839521 47.79871778176913, -118.0718465810053 47.79658112416266, -118.1033122509496 47.82625587665966, -118.1209066122748 47.83118057586444, -118.1262175623975 47.86566984037434, -118.1589116097249 47.88566645861614, -118.2131833863816 47.94047254213561, -118.2784181928836 47.9302139954226, -118.3281486720314 47.88829696413054, -118.3442628365379 47.88537853176497, -118.3553891009114 47.96633524258679, -118.3810339135727 47.99787167684894, -118.3863068913346 48.02362144449417, -118.3657448838064 48.041337545312, -118.2806566454276 48.04352419381652, -118.2498171309079 48.05624685146926, -118.2366715450773 48.07525618832754, -118.2462712480167 48.1175774465393, -118.1947402158703 48.14752437745949, -118.190400643291 48.20611220766169, -118.1483305828664 48.24012560026534, -118.1455312479875 48.27335260755039, -118.1703898825464 48.29805681426771, -118.2126323986182 48.45225790954058, -118.1954963994339 48.48194110609602, -118.1459790421044 48.52805509344688, -118.1476119572314 48.5432797825962, -118.1269733833329 48.57022389237058, -118.1223195156463 48.61597830788374, -118.090068341052 48.64347962190627, -118.1243038693768 48.69032430523336, -118.1150260767384 48.7065677726222, -118.1279436729915 48.74250262885251, -118.1245422197622 48.78226777215052, -118.1409922816603 48.78490718795969, -118.2096650632394 48.87492976109462, -118.2008085410496 48.91337887457483, -118.2149478319647 48.93683916269727, -118.2123633802414 48.98125812187784, -118.2003547376642 48.99990881937111, -117.4385804303028 48.99991850672649, -117.4338877095866 48.92108172080639, -117.4996162085844 48.91900816051996, -117.5003714596753 48.83995384943827, -117.5660182118989 48.83831974281836, -117.5672618714736 48.74635275686731, -117.6355410977651 48.74466943640993, -117.6359879076052 48.65135590806186, -117.5064180789621 48.6528074572468, -117.5003217796015 48.13331225006495, -117.4401070953449 48.13305369610413, -117.438831576286 48.04411548512263))'),\n",
              " Row(_c0='3', name='Okanogan', state_name='Washington', state_fips='53', cnty_fips='047', fips='53047', geometry='POLYGON ((-118.972093862835 47.93915200536639, -118.9740628825699 47.95939692036921, -118.9540205213613 47.98870210284889, -118.9542730142495 48.01957497916992, -119.0037902161669 48.04789904494675, -119.0230638054304 48.10247273554531, -119.0483184818707 48.13114792910142, -119.124714675885 48.14982390696593, -119.2477345053901 48.10594474587626, -119.3147311672732 48.10669165651683, -119.3342628442611 48.08561865394365, -119.3366122610575 48.05700407111367, -119.3625531338042 48.0455061127572, -119.4044479929674 48.04524999358624, -119.4589935021685 48.07564161038093, -119.509739029665 48.07657947071085, -119.6143656277528 48.00505902108409, -119.6397194053206 47.99720412999679, -119.6621359456565 48.00046545329938, -119.6908398904545 48.02479962376302, -119.6755661428798 48.08040784102908, -119.7284257414216 48.08307383231048, -119.7439757081345 48.09890504315351, -119.7636377758897 48.09989667607636, -119.7731824111352 48.08587715610042, -119.8104312250217 48.08697529812835, -119.8947631762289 48.05205352169322, -119.8948621737482 48.03914426589044, -119.8708278450648 48.01521442595458, -119.886102162484 47.97895102850617, -119.8723450299677 47.95803877386736, -120.0620148487241 47.95767339997723, -120.0680657159421 47.98565462662108, -120.0923361156332 47.99894495293795, -120.0912299439792 48.01833178583158, -120.1201848275442 48.03013057024504, -120.1381682890096 48.05277883004933, -120.225971421683 48.09180695727831, -120.2721543084064 48.12208450157816, -120.3206640253649 48.13108680033488, -120.3374875943873 48.1422143598094, -120.3492374757876 48.15991875291433, -120.3510688521896 48.20831341310129, -120.3778720031727 48.21550780268579, -120.3946269318429 48.23770977069037, -120.454115841507 48.25977746262473, -120.5063719229894 48.29770268185413, -120.5678358098529 48.31691581580355, -120.5714142774849 48.33251789738016, -120.5460309716146 48.35255342045559, -120.548678572462 48.36356644119891, -120.5594898164717 48.37483102235773, -120.5938230990189 48.3813342424481, -120.6287669439748 48.39844231925511, -120.6507256920142 48.4380423112754, -120.6500926466524 48.45098565413612, -120.6290808764538 48.46446356287976, -120.6496735519733 48.47963033511301, -120.6273952766187 48.49498893770428, -120.6505896546067 48.50778282591124, -120.6471109615547 48.5305069786333, -120.6536268218306 48.53727025500164, -120.6991223725587 48.53468658033889, -120.6865719633371 48.55349714509786, -120.6927600594556 48.57828480812272, -120.7124905085428 48.58931642651619, -120.7501273864888 48.57999630997755, -120.7726654591012 48.59232867599718, -120.7758170614482 48.6227431901773, -120.7627020918049 48.64343061528497, -120.7457415010981 48.64527344037977, -120.7401796640124 48.65512693130843, -120.7091958234388 48.6624174173861, -120.7100505900895 48.67719172221658, -120.6940134581897 48.69517829192431, -120.6680268942803 48.69447303173145, -120.6586582373567 48.72199232175566, -120.6655938139602 48.73568314510139, -120.7222370241301 48.76979325584666, -120.7351317748018 48.79164761874664, -120.7310593556538 48.85096282946652, -120.7683541715273 48.89160050820072, -120.7698274266048 48.91654881555186, -120.7514480786701 48.93045757849148, -120.7612984095524 48.94638773504983, -120.7892536823724 48.95535957303136, -120.8273937329534 48.93951644725927, -120.8746523305556 48.96136651042396, -120.8758351203839 48.96966349718379, -120.857303105945 48.98081804656285, -120.8570594715475 48.99983064707561, -118.8436028015091 48.99989845856322, -118.8397360443977 48.64903845435776, -118.8710556269508 48.64723759053491, -118.8702581555677 48.47916415056214, -118.8484604662869 48.47806574951402, -118.8516288013387 47.94956368481996, -118.9376304485408 47.9373326993055, -118.972093862835 47.93915200536639))'),\n",
              " Row(_c0='4', name='Pend Oreille', state_name='Washington', state_fips='53', cnty_fips='051', fips='53051', geometry='POLYGON ((-117.4385804303028 48.99991850672649, -117.0320495259435 48.99993130232423, -117.0291117188672 48.83807527955628, -117.0388684398502 48.04618598897073, -117.438831576286 48.04411548512263, -117.4401070953449 48.13305369610413, -117.5003217796015 48.13331225006495, -117.5064180789621 48.6528074572468, -117.6359879076052 48.65135590806186, -117.6355410977651 48.74466943640993, -117.5672618714736 48.74635275686731, -117.5660182118989 48.83831974281836, -117.5003714596753 48.83995384943827, -117.4996162085844 48.91900816051996, -117.4338877095866 48.92108172080639, -117.4385804303028 48.99991850672649))')]"
            ]
          },
          "metadata": {
            "tags": []
          },
          "execution_count": 22
        }
      ]
    },
    {
      "cell_type": "code",
      "metadata": {
        "id": "CZicqUxzu6iZ",
        "colab_type": "code",
        "colab": {}
      },
      "source": [
        "counties.createOrReplaceTempView(\"county\")"
      ],
      "execution_count": 0,
      "outputs": []
    },
    {
      "cell_type": "code",
      "metadata": {
        "id": "G7819rnFvDyb",
        "colab_type": "code",
        "colab": {}
      },
      "source": [
        "counties_geom = spark.sql(\n",
        "      \"SELECT name, st_geomFromWKT(geometry) as geometry from county\"\n",
        ")"
      ],
      "execution_count": 0,
      "outputs": []
    },
    {
      "cell_type": "code",
      "metadata": {
        "id": "W4gqByStvPic",
        "colab_type": "code",
        "colab": {
          "base_uri": "https://localhost:8080/",
          "height": 222
        },
        "outputId": "c77b3ab3-1b6b-4ac6-a84b-e4533f291962"
      },
      "source": [
        "counties_geom.show(5, False)"
      ],
      "execution_count": 25,
      "outputs": [
        {
          "output_type": "stream",
          "text": [
            "+-----------------+-----------------------------------------------------------------------------------------------------------------------------------------------------------------------------------------------------------------------------------------------------------------------------------------------------------------------------------------------------------------------------------------------------------------------------------------------------------------------------------------------------------------------------------------------------------------------------------------------------------------------------------------------------------------------------------------------------------------------------------------------------------------------------------------------------------------------------------------------------------------------------------------------------------------------------------------------------------------------------------------------------------------------------------------------------------------------------------------------------------------------------------------------------------------------------------------------------------------------------------------------------------------------------------------------------------------------------------------------------------------------------------------------------------------------------------------------------------------------------------------------------------------------------------------------------------------------------------------------------------------------------------------------------------------------------------------------------------------------------------------------------------------------------------------------------------------------------------------------------------------------------------------------------------------------------------------------------------------------------------------------------------------------------------------------------------------------------------------------------------------------------------------------------------------------------------------------------------------------------------------------------------------------------------------------------------------------------------------------------------------------------------------------------------------------------------------------------------------------------------------------------------------------------------------------------------------------------------------------------------------------------------------------------------------------------------------------------------------------------------------------------------------------------------------------------------------------------------------------------------------------------------------------------------------------------------------------------------------------------------------------------------------------------------------------------------------------------------------------------------------------------------------------------------------------------------------------------------------------------------------------------------------------------------------------------------------------------------------------------------------------------------------------------------------------------------------------------------------------------------------------------------------------------------------------------------------------------------------------------------------------------------------------------------------------------------------------------------------------------------------------------------------------------------------------------------------------------------------------------------------------------------------------------------+\n",
            "|name             |geometry                                                                                                                                                                                                                                                                                                                                                                                                                                                                                                                                                                                                                                                                                                                                                                                                                                                                                                                                                                                                                                                                                                                                                                                                                                                                                                                                                                                                                                                                                                                                                                                                                                                                                                                                                                                                                                                                                                                                                                                                                                                                                                                                                                                                                                                                                                                                                                                                                                                                                                                                                                                                                                                                                                                                                                                                                                                                                                                                                                                                                                                                                                                                                                                                                                                                                                                                                                                                                                                                                                                                                                                                                                                                                                                                                                                                                                                                                                   |\n",
            "+-----------------+-----------------------------------------------------------------------------------------------------------------------------------------------------------------------------------------------------------------------------------------------------------------------------------------------------------------------------------------------------------------------------------------------------------------------------------------------------------------------------------------------------------------------------------------------------------------------------------------------------------------------------------------------------------------------------------------------------------------------------------------------------------------------------------------------------------------------------------------------------------------------------------------------------------------------------------------------------------------------------------------------------------------------------------------------------------------------------------------------------------------------------------------------------------------------------------------------------------------------------------------------------------------------------------------------------------------------------------------------------------------------------------------------------------------------------------------------------------------------------------------------------------------------------------------------------------------------------------------------------------------------------------------------------------------------------------------------------------------------------------------------------------------------------------------------------------------------------------------------------------------------------------------------------------------------------------------------------------------------------------------------------------------------------------------------------------------------------------------------------------------------------------------------------------------------------------------------------------------------------------------------------------------------------------------------------------------------------------------------------------------------------------------------------------------------------------------------------------------------------------------------------------------------------------------------------------------------------------------------------------------------------------------------------------------------------------------------------------------------------------------------------------------------------------------------------------------------------------------------------------------------------------------------------------------------------------------------------------------------------------------------------------------------------------------------------------------------------------------------------------------------------------------------------------------------------------------------------------------------------------------------------------------------------------------------------------------------------------------------------------------------------------------------------------------------------------------------------------------------------------------------------------------------------------------------------------------------------------------------------------------------------------------------------------------------------------------------------------------------------------------------------------------------------------------------------------------------------------------------------------------------------------------------------------+\n",
            "|Lake of the Woods|POLYGON ((-95.34283127277658 48.546679319076, -95.34105289190684 48.71517195733587, -95.09435905148669 48.71735751795556, -95.09491035007436 48.91176243313237, -95.13382124476209 48.89448474990026, -95.21957848050616 48.87944650348885, -95.29026017093044 48.90294958174785, -95.31417172404038 48.93207199957641, -95.30375729897271 48.94593890485217, -95.32091645456259 48.96097699585145, -95.32323587682019 48.97895631299366, -95.31012059635258 48.993395445689, -95.27665710362751 48.99999118779381, -95.15774989320504 48.9999959019614, -95.15186733731112 49.37173013664074, -94.83203924782775 49.33080592976444, -94.68124996659202 48.87716132370133, -94.69443202246646 48.77761551038913, -94.57031275583246 48.71367627110933, -94.43063445677862 48.71078529488466, -94.43169006769017 48.36821243467153, -95.21178803364391 48.36900472565064, -95.21983978008106 48.54435777285279, -95.34283127277658 48.546679319076))                                                                                                                                                                                                                                                                                                                                                                                                                                                                                                                                                                                                                                                                                                                                                                                                                                                                                                                                                                                                                                                                                                                                                                                                                                                                                                                                                                                                                                                                                                                                                                                                                                                                                                                                                                                                                                                                                                                                                                                                                                                                                                                                                                                                                                                                                                                                                                                                                                                                                                                                                                                                                                                                                                                                                                                                                                                                                                                                                        |\n",
            "|Ferry            |POLYGON ((-118.8516288013387 47.94956368481996, -118.8484604662869 48.47806574951402, -118.8702581555677 48.47916415056214, -118.8710556269508 48.64723759053491, -118.8397360443977 48.64903845435776, -118.8436028015091 48.99989845856322, -118.2003547376642 48.99990881937111, -118.2123633802414 48.98125812187784, -118.2149478319647 48.93683916269727, -118.2008085410496 48.91337887457483, -118.2096650632394 48.87492976109462, -118.1409922816603 48.78490718795969, -118.1245422197622 48.78226777215052, -118.1279436729915 48.74250262885251, -118.1150260767384 48.7065677726222, -118.1243038693768 48.69032430523336, -118.090068341052 48.64347962190627, -118.1223195156463 48.61597830788374, -118.1269733833329 48.57022389237058, -118.1476119572314 48.5432797825962, -118.1459790421044 48.52805509344688, -118.1954963994339 48.48194110609602, -118.2126323986182 48.45225790954058, -118.1703898825464 48.29805681426771, -118.1455312479875 48.27335260755039, -118.1483305828664 48.24012560026534, -118.190400643291 48.20611220766169, -118.1947402158703 48.14752437745949, -118.2462712480167 48.1175774465393, -118.2366715450773 48.07525618832754, -118.2498171309079 48.05624685146926, -118.2806566454276 48.04352419381652, -118.3657448838064 48.041337545312, -118.3863068913346 48.02362144449417, -118.3810339135727 47.99787167684894, -118.3553891009114 47.96633524258679, -118.3442628365379 47.88537853176497, -118.3681583303956 47.83587034375037, -118.4328823490687 47.8389024859825, -118.4593436969996 47.8773092755625, -118.5070070395619 47.86943133167765, -118.5293546287213 47.87379509674344, -118.5438370695936 47.91600523529061, -118.5567849194058 47.92185308247811, -118.6255821860916 47.92198181551611, -118.682576731257 47.93512672789427, -118.7294067022368 47.89539909072082, -118.8205292823451 47.92325355288018, -118.8318218376853 47.94106839219718, -118.8516288013387 47.94956368481996))                                                                                                                                                                                                                                                                                                                                                                                                                                                                                                                                                                                                                                                                                                                                                                                                                                                                                                                                                                                                                                                                                                                                                                                                                                                                                                                                                                                                                                                                                                                                                                                                                                                                                                                                                                                                                                                                                                                               |\n",
            "|Stevens          |POLYGON ((-117.438831576286 48.04411548512263, -117.5421921872581 48.04329014316636, -117.5367092995284 47.79001268278663, -117.6081222557733 47.79800412932188, -117.627250379294 47.82692363072796, -117.662438583904 47.84425379145202, -117.6749675980573 47.88379358717848, -117.6984130184204 47.87032350084479, -117.7115501601926 47.83940871505585, -117.7269387573228 47.83058125493222, -117.8048157180002 47.81127337139468, -117.8217085490234 47.81624360635012, -117.8428516942659 47.83683130868188, -117.8699305981509 47.84725262368679, -117.9363409419158 47.8279445329331, -117.9942826203341 47.8298429437622, -118.0321717839521 47.79871778176913, -118.0718465810053 47.79658112416266, -118.1033122509496 47.82625587665966, -118.1209066122748 47.83118057586444, -118.1262175623975 47.86566984037434, -118.1589116097249 47.88566645861614, -118.2131833863816 47.94047254213561, -118.2784181928836 47.9302139954226, -118.3281486720314 47.88829696413054, -118.3442628365379 47.88537853176497, -118.3553891009114 47.96633524258679, -118.3810339135727 47.99787167684894, -118.3863068913346 48.02362144449417, -118.3657448838064 48.041337545312, -118.2806566454276 48.04352419381652, -118.2498171309079 48.05624685146926, -118.2366715450773 48.07525618832754, -118.2462712480167 48.1175774465393, -118.1947402158703 48.14752437745949, -118.190400643291 48.20611220766169, -118.1483305828664 48.24012560026534, -118.1455312479875 48.27335260755039, -118.1703898825464 48.29805681426771, -118.2126323986182 48.45225790954058, -118.1954963994339 48.48194110609602, -118.1459790421044 48.52805509344688, -118.1476119572314 48.5432797825962, -118.1269733833329 48.57022389237058, -118.1223195156463 48.61597830788374, -118.090068341052 48.64347962190627, -118.1243038693768 48.69032430523336, -118.1150260767384 48.7065677726222, -118.1279436729915 48.74250262885251, -118.1245422197622 48.78226777215052, -118.1409922816603 48.78490718795969, -118.2096650632394 48.87492976109462, -118.2008085410496 48.91337887457483, -118.2149478319647 48.93683916269727, -118.2123633802414 48.98125812187784, -118.2003547376642 48.99990881937111, -117.4385804303028 48.99991850672649, -117.4338877095866 48.92108172080639, -117.4996162085844 48.91900816051996, -117.5003714596753 48.83995384943827, -117.5660182118989 48.83831974281836, -117.5672618714736 48.74635275686731, -117.6355410977651 48.74466943640993, -117.6359879076052 48.65135590806186, -117.5064180789621 48.6528074572468, -117.5003217796015 48.13331225006495, -117.4401070953449 48.13305369610413, -117.438831576286 48.04411548512263))                                                                                                                                                                                                                                                                                                                                                                                                                                                                                                                                                                                                                                                                                                                                                                                                                                                                                                                                                                                                                                                                                                                                                                                                                        |\n",
            "|Okanogan         |POLYGON ((-118.972093862835 47.93915200536639, -118.9740628825699 47.95939692036921, -118.9540205213613 47.98870210284889, -118.9542730142495 48.01957497916992, -119.0037902161669 48.04789904494675, -119.0230638054304 48.10247273554531, -119.0483184818707 48.13114792910142, -119.124714675885 48.14982390696593, -119.2477345053901 48.10594474587626, -119.3147311672732 48.10669165651683, -119.3342628442611 48.08561865394365, -119.3366122610575 48.05700407111367, -119.3625531338042 48.0455061127572, -119.4044479929674 48.04524999358624, -119.4589935021685 48.07564161038093, -119.509739029665 48.07657947071085, -119.6143656277528 48.00505902108409, -119.6397194053206 47.99720412999679, -119.6621359456565 48.00046545329938, -119.6908398904545 48.02479962376302, -119.6755661428798 48.08040784102908, -119.7284257414216 48.08307383231048, -119.7439757081345 48.09890504315351, -119.7636377758897 48.09989667607636, -119.7731824111352 48.08587715610042, -119.8104312250217 48.08697529812835, -119.8947631762289 48.05205352169322, -119.8948621737482 48.03914426589044, -119.8708278450648 48.01521442595458, -119.886102162484 47.97895102850617, -119.8723450299677 47.95803877386736, -120.0620148487241 47.95767339997723, -120.0680657159421 47.98565462662108, -120.0923361156332 47.99894495293795, -120.0912299439792 48.01833178583158, -120.1201848275442 48.03013057024504, -120.1381682890096 48.05277883004933, -120.225971421683 48.09180695727831, -120.2721543084064 48.12208450157816, -120.3206640253649 48.13108680033488, -120.3374875943873 48.1422143598094, -120.3492374757876 48.15991875291433, -120.3510688521896 48.20831341310129, -120.3778720031727 48.21550780268579, -120.3946269318429 48.23770977069037, -120.454115841507 48.25977746262473, -120.5063719229894 48.29770268185413, -120.5678358098529 48.31691581580355, -120.5714142774849 48.33251789738016, -120.5460309716146 48.35255342045559, -120.548678572462 48.36356644119891, -120.5594898164717 48.37483102235773, -120.5938230990189 48.3813342424481, -120.6287669439748 48.39844231925511, -120.6507256920142 48.4380423112754, -120.6500926466524 48.45098565413612, -120.6290808764538 48.46446356287976, -120.6496735519733 48.47963033511301, -120.6273952766187 48.49498893770428, -120.6505896546067 48.50778282591124, -120.6471109615547 48.5305069786333, -120.6536268218306 48.53727025500164, -120.6991223725587 48.53468658033889, -120.6865719633371 48.55349714509786, -120.6927600594556 48.57828480812272, -120.7124905085428 48.58931642651619, -120.7501273864888 48.57999630997755, -120.7726654591012 48.59232867599718, -120.7758170614482 48.6227431901773, -120.7627020918049 48.64343061528497, -120.7457415010981 48.64527344037977, -120.7401796640124 48.65512693130843, -120.7091958234388 48.6624174173861, -120.7100505900895 48.67719172221658, -120.6940134581897 48.69517829192431, -120.6680268942803 48.69447303173145, -120.6586582373567 48.72199232175566, -120.6655938139602 48.73568314510139, -120.7222370241301 48.76979325584666, -120.7351317748018 48.79164761874664, -120.7310593556538 48.85096282946652, -120.7683541715273 48.89160050820072, -120.7698274266048 48.91654881555186, -120.7514480786701 48.93045757849148, -120.7612984095524 48.94638773504983, -120.7892536823724 48.95535957303136, -120.8273937329534 48.93951644725927, -120.8746523305556 48.96136651042396, -120.8758351203839 48.96966349718379, -120.857303105945 48.98081804656285, -120.8570594715475 48.99983064707561, -118.8436028015091 48.99989845856322, -118.8397360443977 48.64903845435776, -118.8710556269508 48.64723759053491, -118.8702581555677 48.47916415056214, -118.8484604662869 48.47806574951402, -118.8516288013387 47.94956368481996, -118.9376304485408 47.9373326993055, -118.972093862835 47.93915200536639))|\n",
            "|Pend Oreille     |POLYGON ((-117.4385804303028 48.99991850672649, -117.0320495259435 48.99993130232423, -117.0291117188672 48.83807527955628, -117.0388684398502 48.04618598897073, -117.438831576286 48.04411548512263, -117.4401070953449 48.13305369610413, -117.5003217796015 48.13331225006495, -117.5064180789621 48.6528074572468, -117.6359879076052 48.65135590806186, -117.6355410977651 48.74466943640993, -117.5672618714736 48.74635275686731, -117.5660182118989 48.83831974281836, -117.5003714596753 48.83995384943827, -117.4996162085844 48.91900816051996, -117.4338877095866 48.92108172080639, -117.4385804303028 48.99991850672649))                                                                                                                                                                                                                                                                                                                                                                                                                                                                                                                                                                                                                                                                                                                                                                                                                                                                                                                                                                                                                                                                                                                                                                                                                                                                                                                                                                                                                                                                                                                                                                                                                                                                                                                                                                                                                                                                                                                                                                                                                                                                                                                                                                                                                                                                                                                                                                                                                                                                                                                                                                                                                                                                                                                                                                                                                                                                                                                                                                                                                                                                                                                                                                                                                                                                   |\n",
            "+-----------------+-----------------------------------------------------------------------------------------------------------------------------------------------------------------------------------------------------------------------------------------------------------------------------------------------------------------------------------------------------------------------------------------------------------------------------------------------------------------------------------------------------------------------------------------------------------------------------------------------------------------------------------------------------------------------------------------------------------------------------------------------------------------------------------------------------------------------------------------------------------------------------------------------------------------------------------------------------------------------------------------------------------------------------------------------------------------------------------------------------------------------------------------------------------------------------------------------------------------------------------------------------------------------------------------------------------------------------------------------------------------------------------------------------------------------------------------------------------------------------------------------------------------------------------------------------------------------------------------------------------------------------------------------------------------------------------------------------------------------------------------------------------------------------------------------------------------------------------------------------------------------------------------------------------------------------------------------------------------------------------------------------------------------------------------------------------------------------------------------------------------------------------------------------------------------------------------------------------------------------------------------------------------------------------------------------------------------------------------------------------------------------------------------------------------------------------------------------------------------------------------------------------------------------------------------------------------------------------------------------------------------------------------------------------------------------------------------------------------------------------------------------------------------------------------------------------------------------------------------------------------------------------------------------------------------------------------------------------------------------------------------------------------------------------------------------------------------------------------------------------------------------------------------------------------------------------------------------------------------------------------------------------------------------------------------------------------------------------------------------------------------------------------------------------------------------------------------------------------------------------------------------------------------------------------------------------------------------------------------------------------------------------------------------------------------------------------------------------------------------------------------------------------------------------------------------------------------------------------------------------------------------------------------------------+\n",
            "only showing top 5 rows\n",
            "\n"
          ],
          "name": "stdout"
        }
      ]
    },
    {
      "cell_type": "code",
      "metadata": {
        "id": "25IH6hBU-y1-",
        "colab_type": "code",
        "colab": {}
      },
      "source": [
        "stations_geom = spark.createDataFrame(\n",
        "    stations[[\"name\", \"geometry\"]]\n",
        ")"
      ],
      "execution_count": 0,
      "outputs": []
    },
    {
      "cell_type": "code",
      "metadata": {
        "id": "Gefb8Nwx---2",
        "colab_type": "code",
        "colab": {
          "base_uri": "https://localhost:8080/",
          "height": 202
        },
        "outputId": "eda12295-c1cb-4da0-d4bc-ee869eba57e2"
      },
      "source": [
        "stations_geom.show(5, False)"
      ],
      "execution_count": 27,
      "outputs": [
        {
          "output_type": "stream",
          "text": [
            "+---------------------+---------------------------------------------+\n",
            "|name                 |geometry                                     |\n",
            "+---------------------+---------------------------------------------+\n",
            "|Van Dorn Street      |POINT (-77.12911152370515 38.79930767201779) |\n",
            "|Franconia-Springfield|POINT (-77.16797018042666 38.766521892689916)|\n",
            "|Federal Center SW    |POINT (-77.01586821694521 38.885072355144786)|\n",
            "|Judiciary Sq         |POINT (-77.01663895662587 38.896090317663166)|\n",
            "|Capitol South        |POINT (-77.00513941992737 38.885062500925)   |\n",
            "+---------------------+---------------------------------------------+\n",
            "only showing top 5 rows\n",
            "\n"
          ],
          "name": "stdout"
        }
      ]
    },
    {
      "cell_type": "code",
      "metadata": {
        "id": "vHUNlv3d_BXS",
        "colab_type": "code",
        "colab": {}
      },
      "source": [
        "stations_geom.createOrReplaceTempView(\"stations\")\n",
        "counties_geom.createOrReplaceTempView(\"counties\")"
      ],
      "execution_count": 0,
      "outputs": []
    },
    {
      "cell_type": "code",
      "metadata": {
        "id": "0W7b4sl9_NQW",
        "colab_type": "code",
        "colab": {}
      },
      "source": [
        "spatial_join_result = spark.sql(\n",
        "    \"\"\"\n",
        "        SELECT c.name, s.name\n",
        "        FROM stations AS s, counties AS c\n",
        "        WHERE ST_Intersects(s.geometry, c.geometry)\n",
        "    \"\"\"\n",
        ")"
      ],
      "execution_count": 0,
      "outputs": []
    },
    {
      "cell_type": "code",
      "metadata": {
        "id": "-WtuHzm8_nGi",
        "colab_type": "code",
        "colab": {
          "base_uri": "https://localhost:8080/",
          "height": 138
        },
        "outputId": "f535d02d-deba-42c8-dfcf-a915b76e068e"
      },
      "source": [
        "spatial_join_result.explain()"
      ],
      "execution_count": 30,
      "outputs": [
        {
          "output_type": "stream",
          "text": [
            "== Physical Plan ==\n",
            "*(2) Project [name#27, name#59]\n",
            "+- RangeJoin geometry#60: geometry, geometry#47: geometry, true\n",
            "   :- Scan ExistingRDD[name#59,geometry#60]\n",
            "   +- Project [name#27, st_geomfromwkt(geometry#32) AS geometry#47]\n",
            "      +- *(1) FileScan csv [name#27,geometry#32] Batched: false, Format: CSV, Location: InMemoryFileIndex[file:/content/counties.csv], PartitionFilters: [], PushedFilters: [], ReadSchema: struct<name:string,geometry:string>\n"
          ],
          "name": "stdout"
        }
      ]
    },
    {
      "cell_type": "code",
      "metadata": {
        "id": "UF8nYbEj_tf-",
        "colab_type": "code",
        "colab": {}
      },
      "source": [
        "stations_per_county = spatial_join_result.groupBy(\"c.name\").count()"
      ],
      "execution_count": 0,
      "outputs": []
    },
    {
      "cell_type": "code",
      "metadata": {
        "id": "i9HKPgxB_4XM",
        "colab_type": "code",
        "colab": {
          "base_uri": "https://localhost:8080/",
          "height": 202
        },
        "outputId": "147bcef9-ade1-4d07-b980-5a766de04f44"
      },
      "source": [
        "stations_per_county.show(50, False)"
      ],
      "execution_count": 38,
      "outputs": [
        {
          "output_type": "stream",
          "text": [
            "+--------------------+-----+\n",
            "|name                |count|\n",
            "+--------------------+-----+\n",
            "|Prince George's     |14   |\n",
            "|Alexandria          |3    |\n",
            "|Montgomery          |12   |\n",
            "|District of Columbia|42   |\n",
            "|Arlington           |9    |\n",
            "|Fairfax             |6    |\n",
            "+--------------------+-----+\n",
            "\n"
          ],
          "name": "stdout"
        }
      ]
    },
    {
      "cell_type": "code",
      "metadata": {
        "id": "srEf31io_6ur",
        "colab_type": "code",
        "colab": {}
      },
      "source": [
        ""
      ],
      "execution_count": 0,
      "outputs": []
    }
  ]
}